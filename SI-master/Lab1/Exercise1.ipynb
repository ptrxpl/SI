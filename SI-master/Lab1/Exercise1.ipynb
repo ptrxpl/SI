{
 "cells": [
  {
   "cell_type": "code",
   "execution_count": 1,
   "metadata": {},
   "outputs": [],
   "source": [
    "import vrep \n",
    "import sys\n",
    "import time \n",
    "import numpy as np\n",
    "from tank import *"
   ]
  },
  {
   "cell_type": "code",
   "execution_count": 2,
   "metadata": {},
   "outputs": [
    {
     "name": "stdout",
     "output_type": "stream",
     "text": [
      "Connected to remote API server\n"
     ]
    },
    {
     "data": {
      "text/plain": [
       "1"
      ]
     },
     "execution_count": 2,
     "metadata": {},
     "output_type": "execute_result"
    }
   ],
   "source": [
    "vrep.simxFinish(-1) # closes all opened connections, in case any prevoius wasnt finished\n",
    "clientID=vrep.simxStart('127.0.0.1',19999,True,True,5000,5) # start a connection\n",
    "\n",
    "if clientID!=-1:\n",
    "    print (\"Connected to remote API server\")\n",
    "else:\n",
    "    print(\"Not connected to remote API server\")\n",
    "    sys.exit(\"Could not connect\")\n",
    "\n",
    "#create instance of Tank\n",
    "tank=Tank(clientID)\n",
    "\n",
    "# get handle to proximity sensor\n",
    "err_code,ps_handle = vrep.simxGetObjectHandle(clientID,\"Proximity_sensor\", vrep.simx_opmode_blocking)\n",
    "\n",
    "t = time.time()\n",
    "while (time.time()-t)<10: # 10 seconds of communitation\n",
    "    #read values from proximity sensor\n",
    "    err_code,detectionState,detectedPoint,detectedObjectHandle,detectedSurfaceNormalVector=vrep.simxReadProximitySensor(clientID,ps_handle,vrep.simx_opmode_streaming)\n",
    "    distance = np.linalg.norm(detectedPoint)\n",
    "    # avoid collision\n",
    "\n",
    "vrep.simxStopSimulation(clientID,vrep.simx_opmode_oneshot) # stop the simulation in vrep"
   ]
  }
 ],
 "metadata": {
  "kernelspec": {
   "display_name": "Python 3",
   "language": "python",
   "name": "python3"
  },
  "language_info": {
   "codemirror_mode": {
    "name": "ipython",
    "version": 3
   },
   "file_extension": ".py",
   "mimetype": "text/x-python",
   "name": "python",
   "nbconvert_exporter": "python",
   "pygments_lexer": "ipython3",
   "version": "3.7.1"
  }
 },
 "nbformat": 4,
 "nbformat_minor": 2
}
